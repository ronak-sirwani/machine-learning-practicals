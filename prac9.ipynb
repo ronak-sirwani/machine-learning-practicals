{
 "cells": [
  {
   "cell_type": "markdown",
   "metadata": {},
   "source": [
    "# Given Data"
   ]
  },
  {
   "cell_type": "code",
   "execution_count": 1,
   "metadata": {},
   "outputs": [],
   "source": [
    "A = [1, 2, 3, 4, 5, 6, 7, 8, 9, 10]\n",
    "B = [4, 8, 12, 16, 20, 24, 28, 32, 36, 40]\n",
    "C = [10, 9, 8, 7, 6, 5, 4, 3, 2, 1]\n",
    "\n",
    "meanA= sum(A)/len(A)\n",
    "meanB= sum(B)/len(B)\n",
    "meanC= sum(C)/len(C)"
   ]
  },
  {
   "cell_type": "markdown",
   "metadata": {},
   "source": [
    "# Function to calculate class specific covariance "
   ]
  },
  {
   "cell_type": "code",
   "execution_count": 2,
   "metadata": {},
   "outputs": [],
   "source": [
    "# class specific covariance \n",
    "def classSpecificCovariance(X,meanX):\n",
    "    s=0\n",
    "    for i in range(len(X)):\n",
    "        temp= X[i]-meanX\n",
    "        \n",
    "        # transpose of 1X1 matrix is same as matrix \n",
    "        temp= temp*temp\n",
    "        \n",
    "        s+= temp\n",
    "    \n",
    "    return s/len(X)\n",
    "\n",
    "SA= classSpecificCovariance(A,meanA)\n",
    "SB= classSpecificCovariance(B,meanB)\n",
    "SC= classSpecificCovariance(C,meanC)"
   ]
  },
  {
   "cell_type": "markdown",
   "metadata": {},
   "source": [
    "# Within class scatter"
   ]
  },
  {
   "cell_type": "code",
   "execution_count": 3,
   "metadata": {},
   "outputs": [
    {
     "name": "stdout",
     "output_type": "stream",
     "text": [
      "Within class scatter :  148.5\n"
     ]
    }
   ],
   "source": [
    "# within class scatter Sw\n",
    "\n",
    "Sw= SA+SB+SC\n",
    "print(\"Within class scatter : \",Sw)"
   ]
  },
  {
   "cell_type": "markdown",
   "metadata": {},
   "source": [
    "# Between class scatter"
   ]
  },
  {
   "cell_type": "code",
   "execution_count": 4,
   "metadata": {},
   "outputs": [
    {
     "name": "stdout",
     "output_type": "stream",
     "text": [
      "Between class scatter :  1815.0\n"
     ]
    }
   ],
   "source": [
    "# between class scatter matrix Sb\n",
    "\n",
    "total_mean= (sum(A)+sum(B)+sum(C))/(len(A)+len(B)+len(C))\n",
    "\n",
    "# N= 3    no. of classes  \n",
    "Sb= len(A)*((meanA-total_mean)*(meanA-total_mean))+len(B)*((meanB-total_mean)*(meanB-total_mean))+len(C)*((meanC-total_mean)*(meanC-total_mean))\n",
    "\n",
    "print(\"Between class scatter : \",Sb)"
   ]
  },
  {
   "cell_type": "markdown",
   "metadata": {},
   "source": [
    "# Total class scatter"
   ]
  },
  {
   "cell_type": "code",
   "execution_count": 5,
   "metadata": {},
   "outputs": [
    {
     "name": "stdout",
     "output_type": "stream",
     "text": [
      "Total scatter :  3300.0\n"
     ]
    }
   ],
   "source": [
    "# total scatter\n",
    "\n",
    "St=0\n",
    "for i in range(10):\n",
    "    St+= ((A[i]-total_mean)*(A[i]-total_mean)) + ((B[i]-total_mean)*(B[i]-total_mean)) + ((C[i]-total_mean)*(C[i]-total_mean))\n",
    "    \n",
    "print(\"Total scatter : \",St)    "
   ]
  },
  {
   "cell_type": "code",
   "execution_count": null,
   "metadata": {},
   "outputs": [],
   "source": []
  }
 ],
 "metadata": {
  "kernelspec": {
   "display_name": "Python 3",
   "language": "python",
   "name": "python3"
  },
  "language_info": {
   "codemirror_mode": {
    "name": "ipython",
    "version": 3
   },
   "file_extension": ".py",
   "mimetype": "text/x-python",
   "name": "python",
   "nbconvert_exporter": "python",
   "pygments_lexer": "ipython3",
   "version": "3.8.5"
  }
 },
 "nbformat": 4,
 "nbformat_minor": 4
}
