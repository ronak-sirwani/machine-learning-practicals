{
 "cells": [
  {
   "cell_type": "markdown",
   "metadata": {},
   "source": [
    "## Creating dataframe using given data"
   ]
  },
  {
   "cell_type": "code",
   "execution_count": 1,
   "metadata": {},
   "outputs": [
    {
     "data": {
      "text/html": [
       "<div>\n",
       "<style scoped>\n",
       "    .dataframe tbody tr th:only-of-type {\n",
       "        vertical-align: middle;\n",
       "    }\n",
       "\n",
       "    .dataframe tbody tr th {\n",
       "        vertical-align: top;\n",
       "    }\n",
       "\n",
       "    .dataframe thead th {\n",
       "        text-align: right;\n",
       "    }\n",
       "</style>\n",
       "<table border=\"1\" class=\"dataframe\">\n",
       "  <thead>\n",
       "    <tr style=\"text-align: right;\">\n",
       "      <th></th>\n",
       "      <th>outlook</th>\n",
       "      <th>temp</th>\n",
       "      <th>humidity</th>\n",
       "      <th>windy</th>\n",
       "      <th>play</th>\n",
       "    </tr>\n",
       "  </thead>\n",
       "  <tbody>\n",
       "    <tr>\n",
       "      <th>0</th>\n",
       "      <td>Sunny</td>\n",
       "      <td>Hot</td>\n",
       "      <td>High</td>\n",
       "      <td>False</td>\n",
       "      <td>No</td>\n",
       "    </tr>\n",
       "    <tr>\n",
       "      <th>1</th>\n",
       "      <td>Sunny</td>\n",
       "      <td>Hot</td>\n",
       "      <td>High</td>\n",
       "      <td>True</td>\n",
       "      <td>No</td>\n",
       "    </tr>\n",
       "    <tr>\n",
       "      <th>2</th>\n",
       "      <td>Overcast</td>\n",
       "      <td>Hot</td>\n",
       "      <td>High</td>\n",
       "      <td>False</td>\n",
       "      <td>Yes</td>\n",
       "    </tr>\n",
       "    <tr>\n",
       "      <th>3</th>\n",
       "      <td>Rainy</td>\n",
       "      <td>Mild</td>\n",
       "      <td>High</td>\n",
       "      <td>False</td>\n",
       "      <td>Yes</td>\n",
       "    </tr>\n",
       "    <tr>\n",
       "      <th>4</th>\n",
       "      <td>Rainy</td>\n",
       "      <td>Cool</td>\n",
       "      <td>Normal</td>\n",
       "      <td>False</td>\n",
       "      <td>Yes</td>\n",
       "    </tr>\n",
       "    <tr>\n",
       "      <th>5</th>\n",
       "      <td>Rainy</td>\n",
       "      <td>Cool</td>\n",
       "      <td>Normal</td>\n",
       "      <td>True</td>\n",
       "      <td>No</td>\n",
       "    </tr>\n",
       "    <tr>\n",
       "      <th>6</th>\n",
       "      <td>Overcast</td>\n",
       "      <td>Cool</td>\n",
       "      <td>Normal</td>\n",
       "      <td>True</td>\n",
       "      <td>Yes</td>\n",
       "    </tr>\n",
       "    <tr>\n",
       "      <th>7</th>\n",
       "      <td>Sunny</td>\n",
       "      <td>Mild</td>\n",
       "      <td>High</td>\n",
       "      <td>False</td>\n",
       "      <td>No</td>\n",
       "    </tr>\n",
       "    <tr>\n",
       "      <th>8</th>\n",
       "      <td>Sunny</td>\n",
       "      <td>Cool</td>\n",
       "      <td>Normal</td>\n",
       "      <td>False</td>\n",
       "      <td>Yes</td>\n",
       "    </tr>\n",
       "    <tr>\n",
       "      <th>9</th>\n",
       "      <td>Rainy</td>\n",
       "      <td>Mild</td>\n",
       "      <td>Normal</td>\n",
       "      <td>False</td>\n",
       "      <td>Yes</td>\n",
       "    </tr>\n",
       "    <tr>\n",
       "      <th>10</th>\n",
       "      <td>Sunny</td>\n",
       "      <td>Mild</td>\n",
       "      <td>Normal</td>\n",
       "      <td>True</td>\n",
       "      <td>Yes</td>\n",
       "    </tr>\n",
       "    <tr>\n",
       "      <th>11</th>\n",
       "      <td>Overcast</td>\n",
       "      <td>Mild</td>\n",
       "      <td>High</td>\n",
       "      <td>True</td>\n",
       "      <td>Yes</td>\n",
       "    </tr>\n",
       "    <tr>\n",
       "      <th>12</th>\n",
       "      <td>Overcast</td>\n",
       "      <td>Hot</td>\n",
       "      <td>Normal</td>\n",
       "      <td>False</td>\n",
       "      <td>Yes</td>\n",
       "    </tr>\n",
       "    <tr>\n",
       "      <th>13</th>\n",
       "      <td>Rainy</td>\n",
       "      <td>Mild</td>\n",
       "      <td>High</td>\n",
       "      <td>True</td>\n",
       "      <td>No</td>\n",
       "    </tr>\n",
       "  </tbody>\n",
       "</table>\n",
       "</div>"
      ],
      "text/plain": [
       "     outlook  temp humidity  windy play\n",
       "0      Sunny   Hot     High  False   No\n",
       "1      Sunny   Hot     High   True   No\n",
       "2   Overcast   Hot     High  False  Yes\n",
       "3      Rainy  Mild     High  False  Yes\n",
       "4      Rainy  Cool   Normal  False  Yes\n",
       "5      Rainy  Cool   Normal   True   No\n",
       "6   Overcast  Cool   Normal   True  Yes\n",
       "7      Sunny  Mild     High  False   No\n",
       "8      Sunny  Cool   Normal  False  Yes\n",
       "9      Rainy  Mild   Normal  False  Yes\n",
       "10     Sunny  Mild   Normal   True  Yes\n",
       "11  Overcast  Mild     High   True  Yes\n",
       "12  Overcast   Hot   Normal  False  Yes\n",
       "13     Rainy  Mild     High   True   No"
      ]
     },
     "execution_count": 1,
     "metadata": {},
     "output_type": "execute_result"
    }
   ],
   "source": [
    "import pandas as pd\n",
    "\n",
    "data= {'outlook':['Sunny','Sunny','Overcast','Rainy','Rainy','Rainy','Overcast','Sunny','Sunny','Rainy','Sunny','Overcast','Overcast','Rainy'],\n",
    "'temp':['Hot','Hot','Hot','Mild','Cool','Cool','Cool','Mild','Cool','Mild','Mild','Mild','Hot','Mild'],\n",
    "'humidity':['High','High','High','High','Normal','Normal','Normal','High','Normal','Normal','Normal','High','Normal','High'],\n",
    "'windy':['False','True','False','False','False','True','True','False','False','False','True','True','False','True'],\n",
    "'play':['No','No','Yes','Yes','Yes','No','Yes','No','Yes','Yes','Yes','Yes','Yes','No']}\n",
    "\n",
    "df= pd.DataFrame(data)\n",
    "df"
   ]
  },
  {
   "cell_type": "markdown",
   "metadata": {},
   "source": [
    "## Calculating count of yes/no for given feature, value and target"
   ]
  },
  {
   "cell_type": "code",
   "execution_count": 2,
   "metadata": {},
   "outputs": [
    {
     "name": "stdout",
     "output_type": "stream",
     "text": [
      "2\n",
      "3\n"
     ]
    }
   ],
   "source": [
    "# counting no. of rows with given feature having specific value and target\n",
    "# ex: temp = Hot , play= Yes  count= 2\n",
    "# ex: outlook= Sunny, play= No  count= 3\n",
    "\n",
    "def countYesNo(feature,value,target):\n",
    "    c= df.loc[(df[feature]==value) & (df['play']==target)]['play'].count()\n",
    "    return c\n",
    "\n",
    "print(countYesNo('outlook','Sunny','Yes'))\n",
    "print(countYesNo('outlook','Sunny','No'))"
   ]
  },
  {
   "cell_type": "markdown",
   "metadata": {},
   "source": [
    "## Calculating probability of yes/no for given feature having specific value and target"
   ]
  },
  {
   "cell_type": "code",
   "execution_count": 3,
   "metadata": {},
   "outputs": [
    {
     "name": "stdout",
     "output_type": "stream",
     "text": [
      "0.2222222222222222\n",
      "0.6\n"
     ]
    }
   ],
   "source": [
    "# Calculating probability of given feature with specific value and target(yes/no)\n",
    "\n",
    "def probability(feature,value,target):\n",
    "    c= countYesNo(feature,value,target)\n",
    "    if target=='Yes':\n",
    "        prob= c/num_yes\n",
    "    else:\n",
    "        prob= c/num_no\n",
    "    return prob\n",
    "\n",
    "# number of yes/no in dataset\n",
    "num_yes= df.loc[(df['play']=='Yes')]['play'].count()\n",
    "num_no= df.loc[(df['play']=='No')]['play'].count()\n",
    "\n",
    "print(probability('outlook','Sunny','Yes'))\n",
    "print(probability('outlook','Sunny','No'))"
   ]
  },
  {
   "cell_type": "markdown",
   "metadata": {},
   "source": [
    "## Take input"
   ]
  },
  {
   "cell_type": "code",
   "execution_count": 4,
   "metadata": {},
   "outputs": [
    {
     "name": "stdout",
     "output_type": "stream",
     "text": [
      "What kind of outlook (Sunny,Overcast,Rainy) : Sunny\n",
      "How's temperatue (Hot,Mild,Cool) : Cool\n",
      "How's humidity (High,Normal) : High\n",
      "Is it Windy ?? (True,False) : True\n"
     ]
    }
   ],
   "source": [
    "outlook= input(\"What kind of outlook (Sunny,Overcast,Rainy) : \")\n",
    "temp= input(\"How's temperatue (Hot,Mild,Cool) : \")\n",
    "humidity= input(\"How's humidity (High,Normal) : \")\n",
    "windy= input(\"Is it Windy ?? (True,False) : \")\n"
   ]
  },
  {
   "cell_type": "markdown",
   "metadata": {},
   "source": [
    "## Calculating possibility of play\n",
    "#### P(play) + P(no_play) = 1"
   ]
  },
  {
   "cell_type": "code",
   "execution_count": 5,
   "metadata": {},
   "outputs": [
    {
     "name": "stdout",
     "output_type": "stream",
     "text": [
      "Possibilty of playing today:  20.458265139116204 %\n",
      "Possibilty of not playing today:  79.54173486088379 %\n",
      "Game cannot be Played today for given weather condtions ('Sunny', 'Cool', 'High', 'True')\n"
     ]
    }
   ],
   "source": [
    "prob_yes= num_yes/14\n",
    "prob_no= num_no/14\n",
    "\n",
    "\n",
    "yes_today= probability('outlook',outlook,'Yes')*probability('temp',temp,'Yes')*probability('humidity',humidity,'Yes')*probability('windy',windy,'Yes')*prob_yes\n",
    "no_today= probability('outlook',outlook,'No')*probability('temp',temp,'No')*probability('humidity',humidity,'No')*probability('windy',windy,'No')*prob_no\n",
    "\n",
    "prob_play= yes_today/(yes_today+no_today)\n",
    "prob_noPlay= no_today/(yes_today+no_today)\n",
    "\n",
    "print(\"Possibilty of playing today: \",prob_play*100,\"%\")\n",
    "print(\"Possibilty of not playing today: \",prob_noPlay*100,\"%\")\n",
    "\n",
    "if prob_play > prob_noPlay:\n",
    "    print(\"Game can be Played today for given weather conditions\",(outlook,temp,humidity,windy))\n",
    "else:\n",
    "    print(\"Game cannot be Played today for given weather condtions\",(outlook,temp,humidity,windy))"
   ]
  },
  {
   "cell_type": "code",
   "execution_count": null,
   "metadata": {},
   "outputs": [],
   "source": []
  }
 ],
 "metadata": {
  "kernelspec": {
   "display_name": "Python 3",
   "language": "python",
   "name": "python3"
  },
  "language_info": {
   "codemirror_mode": {
    "name": "ipython",
    "version": 3
   },
   "file_extension": ".py",
   "mimetype": "text/x-python",
   "name": "python",
   "nbconvert_exporter": "python",
   "pygments_lexer": "ipython3",
   "version": "3.8.5"
  }
 },
 "nbformat": 4,
 "nbformat_minor": 4
}
