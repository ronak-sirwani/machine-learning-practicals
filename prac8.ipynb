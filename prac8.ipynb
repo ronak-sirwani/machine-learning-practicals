{
 "cells": [
  {
   "cell_type": "markdown",
   "metadata": {},
   "source": [
    "# #Initializing cluster 1 and cluster 2 "
   ]
  },
  {
   "cell_type": "code",
   "execution_count": 1,
   "metadata": {},
   "outputs": [
    {
     "name": "stdout",
     "output_type": "stream",
     "text": [
      "[(1.0, 1.0)] [(5.0, 7.0)]\n"
     ]
    }
   ],
   "source": [
    "# cordinates of points\n",
    "data= [(1.0,1.0), (1.5,2.0), (3.0,4.0), (5.0,7.0), (3.5,5.0), (4.5,5.0), (3.5,4.5)]\n",
    "\n",
    "# starting point for cluster 1 \"point 1\"\n",
    "current_cluster1= [(data[0][0],data[0][1])]\n",
    "\n",
    "# starting point for cluster 2 \"point 4\"\n",
    "current_cluster2= [(data[3][0],data[3][1])]\n",
    "print(current_cluster1,current_cluster2)"
   ]
  },
  {
   "cell_type": "markdown",
   "metadata": {},
   "source": [
    "# #Function to calculate new centroid for clusters"
   ]
  },
  {
   "cell_type": "code",
   "execution_count": 2,
   "metadata": {},
   "outputs": [],
   "source": [
    "# function to calculate mean/centroid of cluster\n",
    "def mean_cluster(c):\n",
    "    l= len(c)\n",
    "    sum_x=0\n",
    "    sum_y=0\n",
    "    \n",
    "    for i in range(l):\n",
    "        sum_x += c[i][0]\n",
    "        sum_y += c[i][1]\n",
    "    \n",
    "    mean_x= sum_x/l\n",
    "    mean_y= sum_y/l\n",
    "    \n",
    "    return (mean_x,mean_y)"
   ]
  },
  {
   "cell_type": "markdown",
   "metadata": {},
   "source": [
    "# #Function to calculate distance between two points"
   ]
  },
  {
   "cell_type": "code",
   "execution_count": 3,
   "metadata": {},
   "outputs": [],
   "source": [
    "import math\n",
    "\n",
    "# function to calculate distance between two points\n",
    "def distance(p1,p2):\n",
    "    return math.sqrt((p1[0]-p2[0])**2 + (p1[1]-p2[1])**2)"
   ]
  },
  {
   "cell_type": "markdown",
   "metadata": {},
   "source": [
    "# #Function to modify clusters "
   ]
  },
  {
   "cell_type": "code",
   "execution_count": 4,
   "metadata": {},
   "outputs": [],
   "source": [
    "# function to add data points to appropriate clusters\n",
    "def add_points(data,centroid1,centroid2):\n",
    "    cluster1=[]\n",
    "    cluster2=[]\n",
    "    for point in range(len(data)):\n",
    "        if distance(data[point], centroid1) > distance(data[point], centroid2):\n",
    "            cluster2.append(data[point])\n",
    "        else:\n",
    "            cluster1.append(data[point])\n",
    "    \n",
    "    return cluster1,cluster2\n",
    "        "
   ]
  },
  {
   "cell_type": "markdown",
   "metadata": {},
   "source": [
    "# #Generating new clusters"
   ]
  },
  {
   "cell_type": "code",
   "execution_count": 5,
   "metadata": {},
   "outputs": [
    {
     "name": "stdout",
     "output_type": "stream",
     "text": [
      "Iteration number:  1\n",
      "Current cluster1 :  [(1.0, 1.0)]\n",
      "Current cluster2 :  [(5.0, 7.0)]\n",
      "New cluster1 :  [(1.0, 1.0), (1.5, 2.0), (3.0, 4.0)]\n",
      "New cluster2 :  [(5.0, 7.0), (3.5, 5.0), (4.5, 5.0), (3.5, 4.5)]\n",
      "\n",
      "Iteration number:  2\n",
      "Current cluster1 :  [(1.0, 1.0), (1.5, 2.0), (3.0, 4.0)]\n",
      "Current cluster2 :  [(5.0, 7.0), (3.5, 5.0), (4.5, 5.0), (3.5, 4.5)]\n",
      "New cluster1 :  [(1.0, 1.0), (1.5, 2.0)]\n",
      "New cluster2 :  [(3.0, 4.0), (5.0, 7.0), (3.5, 5.0), (4.5, 5.0), (3.5, 4.5)]\n",
      "\n",
      "Iteration number:  3\n",
      "Current cluster1 :  [(1.0, 1.0), (1.5, 2.0)]\n",
      "Current cluster2 :  [(3.0, 4.0), (5.0, 7.0), (3.5, 5.0), (4.5, 5.0), (3.5, 4.5)]\n",
      "New cluster1 :  [(1.0, 1.0), (1.5, 2.0)]\n",
      "New cluster2 :  [(3.0, 4.0), (5.0, 7.0), (3.5, 5.0), (4.5, 5.0), (3.5, 4.5)]\n",
      "\n",
      "Final clusters for given data: \n",
      "\n",
      "Cluster 1:  [(1.0, 1.0), (1.5, 2.0)]\n",
      "Cluster 2:  [(3.0, 4.0), (5.0, 7.0), (3.5, 5.0), (4.5, 5.0), (3.5, 4.5)]\n"
     ]
    }
   ],
   "source": [
    "i=1\n",
    "while True:\n",
    "    # centroid of c1\n",
    "    centroid1= mean_cluster(current_cluster1)\n",
    "    \n",
    "    # centroid of c2\n",
    "    centroid2= mean_cluster(current_cluster2)\n",
    "    \n",
    "    new_cluster1,new_cluster2= add_points(data,centroid1,centroid2)\n",
    "    print(\"Iteration number: \",i)\n",
    "    print(\"Current cluster1 : \",current_cluster1)\n",
    "    print(\"Current cluster2 : \",current_cluster2)\n",
    "    print(\"New cluster1 : \",new_cluster1)\n",
    "    print(\"New cluster2 : \",new_cluster2)\n",
    "    print()\n",
    "    \n",
    "    if (current_cluster1 != new_cluster1) or (current_cluster2 != new_cluster2):\n",
    "        current_cluster1= new_cluster1\n",
    "        current_cluster2= new_cluster2\n",
    "        i+=1\n",
    "    else:\n",
    "        break\n",
    "    \n",
    "print(\"Final clusters for given data: \\n\")\n",
    "print(\"Cluster 1: \",current_cluster1)\n",
    "print(\"Cluster 2: \",current_cluster2)"
   ]
  },
  {
   "cell_type": "code",
   "execution_count": null,
   "metadata": {},
   "outputs": [],
   "source": []
  }
 ],
 "metadata": {
  "kernelspec": {
   "display_name": "Python 3",
   "language": "python",
   "name": "python3"
  },
  "language_info": {
   "codemirror_mode": {
    "name": "ipython",
    "version": 3
   },
   "file_extension": ".py",
   "mimetype": "text/x-python",
   "name": "python",
   "nbconvert_exporter": "python",
   "pygments_lexer": "ipython3",
   "version": "3.8.5"
  }
 },
 "nbformat": 4,
 "nbformat_minor": 4
}
