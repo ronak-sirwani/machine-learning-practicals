{
 "cells": [
  {
   "cell_type": "markdown",
   "metadata": {},
   "source": [
    "# Mean of vectors"
   ]
  },
  {
   "cell_type": "code",
   "execution_count": 1,
   "metadata": {},
   "outputs": [
    {
     "name": "stdout",
     "output_type": "stream",
     "text": [
      "Mean of vector A:  5.5\n",
      "Mean of vector B:  22.0\n",
      "Mean of vector C:  5.5\n"
     ]
    }
   ],
   "source": [
    "A = [1, 2, 3, 4, 5, 6, 7, 8, 9, 10]\n",
    "B = [4, 8, 12, 16, 20, 24, 28, 32, 36, 40]\n",
    "C = [10, 9, 8, 7, 6, 5, 4, 3, 2, 1]\n",
    "\n",
    "meanA= sum(A)/len(A)\n",
    "meanB= sum(B)/len(B)\n",
    "meanC= sum(C)/len(C)\n",
    "print(\"Mean of vector A: \",meanA)\n",
    "print(\"Mean of vector B: \",meanB)\n",
    "print(\"Mean of vector C: \",meanC)"
   ]
  },
  {
   "cell_type": "markdown",
   "metadata": {},
   "source": [
    "# Variance of vectors"
   ]
  },
  {
   "cell_type": "code",
   "execution_count": 2,
   "metadata": {},
   "outputs": [
    {
     "name": "stdout",
     "output_type": "stream",
     "text": [
      "Variance of vector A:  8.25\n",
      "Variance of vector B:  132.0\n",
      "Variance of vector C:  8.25\n"
     ]
    }
   ],
   "source": [
    "def sumSquaredDeviation(X,m):\n",
    "    s= []\n",
    "    for i in X:\n",
    "        s.append((i-m)**2)\n",
    "    \n",
    "    return sum(s)\n",
    "\n",
    "varA= sumSquaredDeviation(A,meanA)/len(A)\n",
    "varB= sumSquaredDeviation(B,meanB)/len(B)\n",
    "varC= sumSquaredDeviation(C,meanC)/len(C)\n",
    "print(\"Variance of vector A: \",varA)\n",
    "print(\"Variance of vector B: \",varB)\n",
    "print(\"Variance of vector C: \",varC)"
   ]
  },
  {
   "cell_type": "markdown",
   "metadata": {},
   "source": [
    "# Euclidean distance of vector A and B"
   ]
  },
  {
   "cell_type": "code",
   "execution_count": 3,
   "metadata": {},
   "outputs": [
    {
     "name": "stdout",
     "output_type": "stream",
     "text": [
      "Distance between vector A and vector B:  58.86425061104575\n"
     ]
    }
   ],
   "source": [
    "def euclidDistance(x,y):\n",
    "    s=[]\n",
    "    for i in range(len(x)):\n",
    "        s.append((x[i]-y[i])**2)\n",
    "    \n",
    "    return sum(s)**0.5\n",
    "\n",
    "ed= euclidDistance(A,B) \n",
    "print(\"Distance between vector A and vector B: \",ed)"
   ]
  },
  {
   "cell_type": "markdown",
   "metadata": {},
   "source": [
    "# correlation between vector A&C and A&B"
   ]
  },
  {
   "cell_type": "code",
   "execution_count": 4,
   "metadata": {},
   "outputs": [
    {
     "name": "stdout",
     "output_type": "stream",
     "text": [
      "Correlation of vector A & B : 1.0\n",
      "Correlation of vector A & C : -1.0\n"
     ]
    }
   ],
   "source": [
    "def correlation(x,y,mx,my):\n",
    "    s=[]\n",
    "    for i in range(len(x)):\n",
    "        s.append((x[i]-mx)*(y[i]-my))\n",
    "    \n",
    "    return sum(s)\n",
    "\n",
    "stdA= sumSquaredDeviation(A,meanA)**0.5\n",
    "stdB= sumSquaredDeviation(B,meanB)**0.5\n",
    "stdC= sumSquaredDeviation(C,meanC)**0.5\n",
    "\n",
    "rAB= correlation(A,B,meanA,meanB)/(stdA*stdB)\n",
    "rAC= correlation(A,C,meanA,meanC)/(stdA*stdC)\n",
    "print(\"Correlation of vector A & B :\",rAB)\n",
    "print(\"Correlation of vector A & C :\",rAC)"
   ]
  },
  {
   "cell_type": "code",
   "execution_count": null,
   "metadata": {},
   "outputs": [],
   "source": []
  }
 ],
 "metadata": {
  "kernelspec": {
   "display_name": "Python 3",
   "language": "python",
   "name": "python3"
  },
  "language_info": {
   "codemirror_mode": {
    "name": "ipython",
    "version": 3
   },
   "file_extension": ".py",
   "mimetype": "text/x-python",
   "name": "python",
   "nbconvert_exporter": "python",
   "pygments_lexer": "ipython3",
   "version": "3.8.5"
  }
 },
 "nbformat": 4,
 "nbformat_minor": 4
}
