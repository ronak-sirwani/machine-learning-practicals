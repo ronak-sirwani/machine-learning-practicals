{
 "cells": [
  {
   "cell_type": "markdown",
   "metadata": {},
   "source": [
    "# Loading data"
   ]
  },
  {
   "cell_type": "code",
   "execution_count": 14,
   "metadata": {},
   "outputs": [],
   "source": [
    "import numpy as np\n",
    "\n",
    "X = np.array([340, 230, 405, 325, 280, 195, 265, 300, 350, 310])\n",
    "Y = np.array([71, 65, 83, 74, 67, 56, 57, 78, 84, 65])"
   ]
  },
  {
   "cell_type": "markdown",
   "metadata": {},
   "source": [
    "# Finding equation for linear regression \n",
    "### slope m= (y2-y1)/(x2-x1)  "
   ]
  },
  {
   "cell_type": "code",
   "execution_count": 32,
   "metadata": {},
   "outputs": [
    {
     "name": "stdout",
     "output_type": "stream",
     "text": [
      "Enter % of sale : 300\n",
      "Profit as per sale :  68.81818181818181\n"
     ]
    }
   ],
   "source": [
    "m= (Y[1]-Y[0])/(X[1]-X[0])\n",
    "c= -m*X[0]+Y[0]\n",
    "\n",
    "x= int(input(\"Enter % of sale : \"))\n",
    "\n",
    "# equation of line y=mx+c\n",
    "y= m*x + c\n",
    "\n",
    "print(\"Profit as per sale : \",y)"
   ]
  },
  {
   "cell_type": "markdown",
   "metadata": {},
   "source": [
    "# Plotting linear regression"
   ]
  },
  {
   "cell_type": "code",
   "execution_count": 34,
   "metadata": {},
   "outputs": [
    {
     "data": {
      "image/png": "[encoded data removed]",
      "text/plain": [
       "<Figure size 432x288 with 1 Axes>"
      ]
     },
     "metadata": {
      "needs_background": "light"
     },
     "output_type": "display_data"
    },
    {
     "name": "stdout",
     "output_type": "stream",
     "text": [
      "Slope and intercept found manually:  0.05454545454545454 52.45454545454545\n",
      "Slope and intercept found by numpy:  0.13443113772455093 29.670658682634706\n"
     ]
    }
   ],
   "source": [
    "import matplotlib.pyplot as plt\n",
    "\n",
    "# basic scatter plot\n",
    "plt.plot(X,Y,'o')\n",
    "\n",
    "# plotting linear regression in scatter plot\n",
    "line1,=plt.plot(X,(m*X)+c, label=\"slope found manually\")\n",
    "\n",
    "# best fitting line\n",
    "m1,c1= np.polyfit(X,Y,1)\n",
    "line2,= plt.plot(X,m1*X+c1, label=\"slope found by numpy\")\n",
    "\n",
    "leg = plt.legend(loc='lower right')\n",
    "plt.show()\n",
    "\n",
    "print(\"Slope and intercept found manually: \",m,c)\n",
    "print(\"Slope and intercept found by numpy: \",m1,c1)"
   ]
  },
  {
   "cell_type": "markdown",
   "metadata": {},
   "source": [
    "# Calculating residual for y4\n",
    "### residual= actual value - predicted value\n",
    "### residual for y4= Y[3] - predicted value using X[3]"
   ]
  },
  {
   "cell_type": "code",
   "execution_count": 36,
   "metadata": {},
   "outputs": [
    {
     "name": "stdout",
     "output_type": "stream",
     "text": [
      "Residual for  74 =  3.818181818181813\n"
     ]
    }
   ],
   "source": [
    "print(\"Residual for \",Y[3],\"= \",Y[3]-(m*X[3]+c))"
   ]
  },
  {
   "cell_type": "code",
   "execution_count": null,
   "metadata": {},
   "outputs": [],
   "source": []
  }
 ],
 "metadata": {
  "kernelspec": {
   "display_name": "Python 3",
   "language": "python",
   "name": "python3"
  },
  "language_info": {
   "codemirror_mode": {
    "name": "ipython",
    "version": 3
   },
   "file_extension": ".py",
   "mimetype": "text/x-python",
   "name": "python",
   "nbconvert_exporter": "python",
   "pygments_lexer": "ipython3",
   "version": "3.8.5"
  }
 },
 "nbformat": 4,
 "nbformat_minor": 4
}
