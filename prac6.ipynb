{
 "cells": [
  {
   "cell_type": "markdown",
   "metadata": {},
   "source": [
    "# Loading data "
   ]
  },
  {
   "cell_type": "code",
   "execution_count": 1,
   "metadata": {},
   "outputs": [
    {
     "data": {
      "text/html": [
       "<div>\n",
       "<style scoped>\n",
       "    .dataframe tbody tr th:only-of-type {\n",
       "        vertical-align: middle;\n",
       "    }\n",
       "\n",
       "    .dataframe tbody tr th {\n",
       "        vertical-align: top;\n",
       "    }\n",
       "\n",
       "    .dataframe thead th {\n",
       "        text-align: right;\n",
       "    }\n",
       "</style>\n",
       "<table border=\"1\" class=\"dataframe\">\n",
       "  <thead>\n",
       "    <tr style=\"text-align: right;\">\n",
       "      <th></th>\n",
       "      <th>outlook</th>\n",
       "      <th>temp</th>\n",
       "      <th>humidity</th>\n",
       "      <th>windy</th>\n",
       "      <th>play</th>\n",
       "    </tr>\n",
       "  </thead>\n",
       "  <tbody>\n",
       "    <tr>\n",
       "      <th>0</th>\n",
       "      <td>Sunny</td>\n",
       "      <td>Hot</td>\n",
       "      <td>High</td>\n",
       "      <td>False</td>\n",
       "      <td>No</td>\n",
       "    </tr>\n",
       "    <tr>\n",
       "      <th>1</th>\n",
       "      <td>Sunny</td>\n",
       "      <td>Hot</td>\n",
       "      <td>High</td>\n",
       "      <td>True</td>\n",
       "      <td>No</td>\n",
       "    </tr>\n",
       "    <tr>\n",
       "      <th>2</th>\n",
       "      <td>Overcast</td>\n",
       "      <td>Hot</td>\n",
       "      <td>High</td>\n",
       "      <td>False</td>\n",
       "      <td>Yes</td>\n",
       "    </tr>\n",
       "    <tr>\n",
       "      <th>3</th>\n",
       "      <td>Rainy</td>\n",
       "      <td>Mild</td>\n",
       "      <td>High</td>\n",
       "      <td>False</td>\n",
       "      <td>Yes</td>\n",
       "    </tr>\n",
       "    <tr>\n",
       "      <th>4</th>\n",
       "      <td>Rainy</td>\n",
       "      <td>Cool</td>\n",
       "      <td>Normal</td>\n",
       "      <td>False</td>\n",
       "      <td>Yes</td>\n",
       "    </tr>\n",
       "    <tr>\n",
       "      <th>5</th>\n",
       "      <td>Rainy</td>\n",
       "      <td>Cool</td>\n",
       "      <td>Normal</td>\n",
       "      <td>True</td>\n",
       "      <td>No</td>\n",
       "    </tr>\n",
       "    <tr>\n",
       "      <th>6</th>\n",
       "      <td>Overcast</td>\n",
       "      <td>Cool</td>\n",
       "      <td>Normal</td>\n",
       "      <td>True</td>\n",
       "      <td>Yes</td>\n",
       "    </tr>\n",
       "    <tr>\n",
       "      <th>7</th>\n",
       "      <td>Sunny</td>\n",
       "      <td>Mild</td>\n",
       "      <td>High</td>\n",
       "      <td>False</td>\n",
       "      <td>No</td>\n",
       "    </tr>\n",
       "    <tr>\n",
       "      <th>8</th>\n",
       "      <td>Sunny</td>\n",
       "      <td>Cool</td>\n",
       "      <td>Normal</td>\n",
       "      <td>False</td>\n",
       "      <td>Yes</td>\n",
       "    </tr>\n",
       "    <tr>\n",
       "      <th>9</th>\n",
       "      <td>Rainy</td>\n",
       "      <td>Mild</td>\n",
       "      <td>Normal</td>\n",
       "      <td>False</td>\n",
       "      <td>Yes</td>\n",
       "    </tr>\n",
       "    <tr>\n",
       "      <th>10</th>\n",
       "      <td>Sunny</td>\n",
       "      <td>Mild</td>\n",
       "      <td>Normal</td>\n",
       "      <td>True</td>\n",
       "      <td>Yes</td>\n",
       "    </tr>\n",
       "    <tr>\n",
       "      <th>11</th>\n",
       "      <td>Overcast</td>\n",
       "      <td>Mild</td>\n",
       "      <td>High</td>\n",
       "      <td>True</td>\n",
       "      <td>Yes</td>\n",
       "    </tr>\n",
       "    <tr>\n",
       "      <th>12</th>\n",
       "      <td>Overcast</td>\n",
       "      <td>Hot</td>\n",
       "      <td>Normal</td>\n",
       "      <td>False</td>\n",
       "      <td>Yes</td>\n",
       "    </tr>\n",
       "    <tr>\n",
       "      <th>13</th>\n",
       "      <td>Rainy</td>\n",
       "      <td>Mild</td>\n",
       "      <td>High</td>\n",
       "      <td>True</td>\n",
       "      <td>No</td>\n",
       "    </tr>\n",
       "  </tbody>\n",
       "</table>\n",
       "</div>"
      ],
      "text/plain": [
       "     outlook  temp humidity  windy play\n",
       "0      Sunny   Hot     High  False   No\n",
       "1      Sunny   Hot     High   True   No\n",
       "2   Overcast   Hot     High  False  Yes\n",
       "3      Rainy  Mild     High  False  Yes\n",
       "4      Rainy  Cool   Normal  False  Yes\n",
       "5      Rainy  Cool   Normal   True   No\n",
       "6   Overcast  Cool   Normal   True  Yes\n",
       "7      Sunny  Mild     High  False   No\n",
       "8      Sunny  Cool   Normal  False  Yes\n",
       "9      Rainy  Mild   Normal  False  Yes\n",
       "10     Sunny  Mild   Normal   True  Yes\n",
       "11  Overcast  Mild     High   True  Yes\n",
       "12  Overcast   Hot   Normal  False  Yes\n",
       "13     Rainy  Mild     High   True   No"
      ]
     },
     "execution_count": 1,
     "metadata": {},
     "output_type": "execute_result"
    }
   ],
   "source": [
    "import pandas as pd\n",
    "\n",
    "data= {'outlook':['Sunny','Sunny','Overcast','Rainy','Rainy','Rainy','Overcast','Sunny','Sunny','Rainy','Sunny','Overcast','Overcast','Rainy'],\n",
    "'temp':['Hot','Hot','Hot','Mild','Cool','Cool','Cool','Mild','Cool','Mild','Mild','Mild','Hot','Mild'],\n",
    "'humidity':['High','High','High','High','Normal','Normal','Normal','High','Normal','Normal','Normal','High','Normal','High'],\n",
    "'windy':['False','True','False','False','False','True','True','False','False','False','True','True','False','True'],\n",
    "'play':['No','No','Yes','Yes','Yes','No','Yes','No','Yes','Yes','Yes','Yes','Yes','No']}\n",
    "\n",
    "df= pd.DataFrame(data)\n",
    "df"
   ]
  },
  {
   "cell_type": "markdown",
   "metadata": {},
   "source": [
    "# Calculating entropy of target class 'play'"
   ]
  },
  {
   "cell_type": "code",
   "execution_count": 2,
   "metadata": {},
   "outputs": [
    {
     "data": {
      "text/plain": [
       "0.9402859586706311"
      ]
     },
     "execution_count": 2,
     "metadata": {},
     "output_type": "execute_result"
    }
   ],
   "source": [
    "import math\n",
    "\n",
    "def entropy_target():\n",
    "    p= df.loc[(df['play']=='Yes')]['play'].count()\n",
    "    n= df.loc[(df['play']=='No')]['play'].count()\n",
    "    total= df['play'].count()\n",
    "    \n",
    "    e= -((p/total)*math.log2((p/total)))-((n/total)*math.log2((n/total)))\n",
    "    \n",
    "    return e\n",
    "\n",
    "\n",
    "\n",
    "E_play= entropy_target()\n",
    "E_play\n"
   ]
  },
  {
   "cell_type": "markdown",
   "metadata": {},
   "source": [
    "# Entropy of other attributes after split\n",
    "\n",
    "### E(play, outlook)= P(Sunny)*E(Sunny) +  P(Overcast)*E(Overcast) +  P(Rainy)*E(Rainy)\n",
    "\n",
    "### E(play, temp)= P(Hot)*E(Hot) +  P(Cool)*E(Cool) +  P(Mild)*E(Mild)\n",
    "\n",
    "### E(play, humidity)= P(High)*E(High) +  P(Normal)*E(Normal)\n",
    "\n",
    "### E(play, windy)= P(True)*E(True) +  P(False)*E(False)"
   ]
  },
  {
   "cell_type": "code",
   "execution_count": 3,
   "metadata": {},
   "outputs": [
    {
     "name": "stdout",
     "output_type": "stream",
     "text": [
      "0.6935361388961918 0.9110633930116763 0.7884504573082896 0.8921589282623617\n"
     ]
    }
   ],
   "source": [
    "def _count(feature,value):\n",
    "    c= df.loc[(df[feature]==value)][feature].count()\n",
    "    return c\n",
    "\n",
    "def probability(feature,value):\n",
    "    c= _count(feature,value)\n",
    "    total= df[feature].count()\n",
    "    prob= c/total\n",
    "    return prob\n",
    "\n",
    "def entropy_attribute(attribute,value):\n",
    "    p= df.loc[(df[attribute]==value) & (df['play']=='Yes')]['play'].count()\n",
    "    n= df.loc[(df[attribute]==value) & (df['play']=='No')]['play'].count()\n",
    "    total= df.loc[df[attribute]==value][attribute].count()\n",
    "    \n",
    "    if p==0 or n==0:\n",
    "        e=0\n",
    "    else:\n",
    "        e= -((p/total)*math.log2((p/total)))-((n/total)*math.log2((n/total)))\n",
    "    \n",
    "    \n",
    "    return e\n",
    "\n",
    "E_outlook= probability('outlook','Sunny')*entropy_attribute('outlook','Sunny') + probability('outlook','Overcast')*entropy_attribute('outlook','Overcast') + probability('outlook','Rainy')*entropy_attribute('outlook','Rainy')\n",
    "E_temp= probability('temp','Hot')*entropy_attribute('temp','Hot') + probability('temp','Mild')*entropy_attribute('temp','Mild') + probability('temp','Cool')*entropy_attribute('temp','Cool')\n",
    "E_humidity= probability('humidity','High')*entropy_attribute('humidity','High') + probability('humidity','Normal')*entropy_attribute('humidity','Normal')\n",
    "E_windy= probability('windy','True')*entropy_attribute('windy','True') + probability('windy','False')*entropy_attribute('windy','False')\n",
    "\n",
    "print(E_outlook,E_temp,E_humidity,E_windy)"
   ]
  },
  {
   "cell_type": "markdown",
   "metadata": {},
   "source": [
    "# Calculating information gain of each attribute\n",
    "\n",
    "### Gain(play, outlook) = E(play) – E(play, outlook)\n",
    "\n",
    "### Gain(play, temp) = E(play) – E(play, temp)\n",
    "\n",
    "### Gain(play, humidity) = E(play) – E(play, humidity)\n",
    "\n",
    "### Gain(play, windy) = E(play) – E(play, windy)"
   ]
  },
  {
   "cell_type": "code",
   "execution_count": 4,
   "metadata": {},
   "outputs": [
    {
     "data": {
      "text/plain": [
       "{0.24674981977443933: 'outlook',\n",
       " 0.02922256565895487: 'temp',\n",
       " 0.15183550136234159: 'humidity',\n",
       " 0.04812703040826949: 'windy'}"
      ]
     },
     "execution_count": 4,
     "metadata": {},
     "output_type": "execute_result"
    }
   ],
   "source": [
    "gain_outlook= E_play - E_outlook\n",
    "gain_temp= E_play - E_temp\n",
    "gain_humidity= E_play - E_humidity\n",
    "gain_windy= E_play - E_windy\n",
    "gain= {gain_outlook:'outlook',gain_temp:'temp',gain_humidity:'humidity',gain_windy:'windy'}\n",
    "gain"
   ]
  },
  {
   "cell_type": "markdown",
   "metadata": {},
   "source": [
    "# The attribute with the largest information gain is used for the split."
   ]
  },
  {
   "cell_type": "code",
   "execution_count": 5,
   "metadata": {},
   "outputs": [
    {
     "name": "stdout",
     "output_type": "stream",
     "text": [
      "Splliting attribute at first level is :  outlook\n"
     ]
    }
   ],
   "source": [
    "print(\"Splliting attribute at first level is : \",gain[max(gain)])"
   ]
  },
  {
   "cell_type": "code",
   "execution_count": null,
   "metadata": {},
   "outputs": [],
   "source": []
  }
 ],
 "metadata": {
  "kernelspec": {
   "display_name": "Python 3",
   "language": "python",
   "name": "python3"
  },
  "language_info": {
   "codemirror_mode": {
    "name": "ipython",
    "version": 3
   },
   "file_extension": ".py",
   "mimetype": "text/x-python",
   "name": "python",
   "nbconvert_exporter": "python",
   "pygments_lexer": "ipython3",
   "version": "3.8.5"
  }
 },
 "nbformat": 4,
 "nbformat_minor": 4
}
